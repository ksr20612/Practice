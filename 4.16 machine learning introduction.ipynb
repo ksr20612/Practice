{
 "cells": [
  {
   "cell_type": "markdown",
   "metadata": {},
   "source": [
    "y = ax + b\n",
    "\n",
    "데이터: x,y (ex. certain wave => ㅏ sound)\n",
    "기계가 a와 b를 학습하여 데이터를 잘 산출할 수 있게끔 학습시키는 것이 machine learning\n",
    "\n",
    "기계한테 여러 데이터를 제공하여 a,b의 값을 산출하게끔 함 -> 패턴을 판단하여 가장 적절한(좋은) ab 값을 결정\n",
    "\n",
    "### 추리통계-메타분석 생각할 것(모든 데이터와의 거리가 가장 짧은 함수 계산)\n",
    "\n",
    "한계: 일대일 대응이므로 하나의 차원에만 대응할 수 있음(frequency,amplitude,tone등 여러가지 차원을 고려하지 못함)\n",
    "           ------> 데이터 값에 한 차원 이상을 대입하면 해결됨\n",
    "           ------> 이렇게: y1=a1x1+a2x2+b1 / y2=a3x1+a4x2+b2 (2개의 입력-입력벡터-과 2개의 출력-출력벡터-, 사이의 weight matrix)\n",
    "           (입력벡터)        (출력벡터)\n",
    "               x1                y1\n",
    "               x2                y2\n",
    "               x3    (weight\n",
    "                1     matrix)\n",
    "               (X)      (A)      (Y)  "
   ]
  }
 ],
 "metadata": {
  "kernelspec": {
   "display_name": "Python 3",
   "language": "python",
   "name": "python3"
  },
  "language_info": {
   "codemirror_mode": {
    "name": "ipython",
    "version": 3
   },
   "file_extension": ".py",
   "mimetype": "text/x-python",
   "name": "python",
   "nbconvert_exporter": "python",
   "pygments_lexer": "ipython3",
   "version": "3.6.5"
  }
 },
 "nbformat": 4,
 "nbformat_minor": 2
}
